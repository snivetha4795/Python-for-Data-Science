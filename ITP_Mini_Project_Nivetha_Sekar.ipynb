{
 "cells": [
  {
   "cell_type": "markdown",
   "metadata": {},
   "source": [
    "# <center>PGP Data Science Engineering</center>\n",
    "## <center>Introduction to Programming – Mini Project:</center>\n"
   ]
  },
  {
   "cell_type": "markdown",
   "metadata": {},
   "source": [
    "### Problem 1:\n",
    "\n",
    "1. Write a program to calculate area of shapes. Your program should be capable of calculating the area of a square, rectangle, triangle and a circle. The user should be presented with options to select the shape. Based on which shape is chosen by the user, the program should ask for the appropriate input and print the resulting area on the screen.\n",
    "\n",
    "When the program is run, the screen should display something like this:\n",
    "\n",
    "**Which shape would you like to calculate the area for? Please enter the option number-**<br>\n",
    "**1. Square**<br>\n",
    "**2. Rectangle**<br>\n",
    "**3. Triangle**<br>\n",
    "**4. Circle**<br>\n",
    "**Enter Option: _**\n",
    "\n",
    "Say the user enters the option 1.\n",
    "\n",
    "**Please enter the length of a side: _**\n",
    "\n",
    "If the user enters a value of 5. The output should be:\n",
    "\n",
    "**The area of the square is 25**\n",
    "\n",
    "This program should indicate that the input is invalid if the user enters a character instead of a number as input. For instance if the user enters a value of ‘a’ instead of 5 in the previous example the program should prompt:\n",
    "\n",
    "**Invalid input, please enter a number: _**\n"
   ]
  },
  {
   "cell_type": "code",
   "execution_count": 50,
   "metadata": {},
   "outputs": [],
   "source": [
    "def area_of_shapes():\n",
    "    option=input(\"Which shape would you like to calculate the area for? Please enter the option number-\"+\"\\n\"+\"1. Square\"+\"\\n\"+\"2. Rectangle\"+\"\\n\"+\"3. Triangle\"+\"\\n\"+\"4. Circle\"+\"\\n\"+\"Enter Option: _\")\n",
    "    \n",
    "\n",
    "    def area_of_square():\n",
    "        length=input(\"Please enter the length of a side: \")\n",
    "        if (length.replace(\".\",\"\").isdigit()):\n",
    "            print(\"The area of the square is\",round((float(length)**2),2))\n",
    "        else:\n",
    "            print(\"Invalid input, please enter a number\")\n",
    "            area_of_square()\n",
    "\n",
    "    def area_of_rectangle():\n",
    "        length=input(\"Please enter the length of the rectangle: \")\n",
    "        breadth=input(\"Please enter the breadth of the rectangle: \")\n",
    "        if (length.replace(\".\",\"\").isdigit() and breadth.replace(\".\",\"\").isdigit()):\n",
    "            print(\"The area of the rectangle is\",round((float(length)*float(breadth)),2))\n",
    "        else:\n",
    "            print(\"Invalid input, please enter a number\")\n",
    "            area_of_rectangle()\n",
    "\n",
    "    def area_of_triangle():\n",
    "        base=input(\"Please enter the base of the triangle: \")\n",
    "        height=input(\"Please enter the height of the triangle: \")\n",
    "        if(base.replace(\".\",\"\").isdigit() and height.replace(\".\",\"\").isdigit()):\n",
    "            print(\"The area of the triangle is\", round((0.5*float(base)*float(height)),2))\n",
    "        else:\n",
    "            print(\"Invalid input, please enter a number\")\n",
    "            area_of_triangle()\n",
    "\n",
    "    def area_of_circle():\n",
    "        radius=input(\"Please enter the radius of the circle: \")\n",
    "        if(radius.replace(\".\",\"\").isdigit()):\n",
    "            print(\"The area of the circle is\",round((3.14*float(radius)*float(radius)),2))\n",
    "        else:\n",
    "            print(\"Invalid input, please enter a number\")\n",
    "            area_of_circle()   \n",
    "\n",
    "    if option=='1':\n",
    "        area_of_square()\n",
    "    elif option=='2':\n",
    "        area_of_rectangle()\n",
    "    elif option=='3':\n",
    "        area_of_triangle()\n",
    "    elif option=='4':\n",
    "        area_of_circle()\n",
    "    else:\n",
    "        print(\"Invalid option\")\n",
    "        area_of_shapes()"
   ]
  },
  {
   "cell_type": "code",
   "execution_count": 45,
   "metadata": {},
   "outputs": [
    {
     "name": "stdout",
     "output_type": "stream",
     "text": [
      "Which shape would you like to calculate the area for? Please enter the option number-\n",
      "1. Square\n",
      "2. Rectangle\n",
      "3. Triangle\n",
      "4. Circle\n",
      "Enter Option: _5\n",
      "Invalid option\n",
      "Which shape would you like to calculate the area for? Please enter the option number-\n",
      "1. Square\n",
      "2. Rectangle\n",
      "3. Triangle\n",
      "4. Circle\n",
      "Enter Option: _1\n",
      "Please enter the length of a side: 5\n",
      "The area of the square is 25.0\n"
     ]
    }
   ],
   "source": [
    "area_of_shapes()"
   ]
  },
  {
   "cell_type": "code",
   "execution_count": 46,
   "metadata": {},
   "outputs": [
    {
     "name": "stdout",
     "output_type": "stream",
     "text": [
      "Which shape would you like to calculate the area for? Please enter the option number-\n",
      "1. Square\n",
      "2. Rectangle\n",
      "3. Triangle\n",
      "4. Circle\n",
      "Enter Option: _2\n",
      "Please enter the length of the rectangle: 5\n",
      "Please enter the breadth of the rectangle: 2.5\n",
      "The area of the rectangle is 12.5\n"
     ]
    }
   ],
   "source": [
    "area_of_shapes()"
   ]
  },
  {
   "cell_type": "code",
   "execution_count": 47,
   "metadata": {},
   "outputs": [
    {
     "name": "stdout",
     "output_type": "stream",
     "text": [
      "Which shape would you like to calculate the area for? Please enter the option number-\n",
      "1. Square\n",
      "2. Rectangle\n",
      "3. Triangle\n",
      "4. Circle\n",
      "Enter Option: _3\n",
      "Please enter the base of the triangle: 3\n",
      "Please enter the height of the triangle: 2\n",
      "The area of the triangle is 3.0\n"
     ]
    }
   ],
   "source": [
    "area_of_shapes()"
   ]
  },
  {
   "cell_type": "code",
   "execution_count": 48,
   "metadata": {},
   "outputs": [
    {
     "name": "stdout",
     "output_type": "stream",
     "text": [
      "Which shape would you like to calculate the area for? Please enter the option number-\n",
      "1. Square\n",
      "2. Rectangle\n",
      "3. Triangle\n",
      "4. Circle\n",
      "Enter Option: _4\n",
      "Please enter the radius of the circle: 4\n",
      "The area of the circle is 50.24\n"
     ]
    }
   ],
   "source": [
    "area_of_shapes()"
   ]
  },
  {
   "cell_type": "code",
   "execution_count": 49,
   "metadata": {},
   "outputs": [
    {
     "name": "stdout",
     "output_type": "stream",
     "text": [
      "Which shape would you like to calculate the area for? Please enter the option number-\n",
      "1. Square\n",
      "2. Rectangle\n",
      "3. Triangle\n",
      "4. Circle\n",
      "Enter Option: _1\n",
      "Please enter the length of a side: length\n",
      "Invalid input, please enter a number\n",
      "Please enter the length of a side: 5\n",
      "The area of the square is 25.0\n"
     ]
    }
   ],
   "source": [
    "area_of_shapes()"
   ]
  },
  {
   "cell_type": "markdown",
   "metadata": {},
   "source": [
    "### Problem 2:\n",
    "\n",
    "Create an encrypter in python based on the ceaser cipher. It is a substitution cipher where each character of the original text is shifted a certain number characters in the alphabet. Write a function that would require 2 arguments – the input text to be encrypted and a key. For eg: Given the input text ‘hello’ and the key 3, the resulting encryted text would be ‘khoor’. Here you can see that every character in the string hello is shifted by 3 characters. ‘h’ has shifted to ‘k’, ‘e’ has shifted to ‘h’ and so on. If a key of 5 were used, the resulting string would be ‘mjqqt’. This function should be capable of ignoring any characters which are not alphabets. Th2 character ‘z’ entered b\n",
    "y the user for a key of 3 would result in ‘c’.\n",
    "\n",
    "Usage:<br>\n",
    "**encrypt(‘hello world!’, 3)**<br>\n",
    "**‘khoor zruog!’**\n",
    "\n",
    "Similarly create decrypter which can decode the encryted text when provided the input text and key\n",
    "\n",
    "Usage:<br>\n",
    "**decrypt(‘khoor zruog!’, 3)**<br>\n",
    "**‘hello world!’**\n",
    "\n",
    "For the sake of simplicity you can assume that input solely consists of lowercase alphabets, spaces and punctuation symbols. Numbers in the input text would also be ignored similar to symbols."
   ]
  },
  {
   "cell_type": "code",
   "execution_count": 149,
   "metadata": {},
   "outputs": [
    {
     "name": "stdout",
     "output_type": "stream",
     "text": [
      "khoor zruog!\n",
      "hello world!\n"
     ]
    }
   ],
   "source": [
    "import string\n",
    "alpha_string = string.ascii_lowercase\n",
    "\n",
    "def encrypt(text, key):\n",
    "    encrypted_text = ''\n",
    "    for i in text:\n",
    "        if i in alpha_string:\n",
    "            alpha_index = alpha_string.index(i)\n",
    "            new_index = alpha_index + key\n",
    "            if new_index > 25:\n",
    "                new_index = new_index - 26\n",
    "            encrypted_text = encrypted_text + alpha_string[new_index]\n",
    "        else:\n",
    "            encrypted_text = encrypted_text + i\n",
    "    print(encrypted_text)\n",
    "\n",
    "\n",
    "def decrypt(text, key):\n",
    "    decrypted_text = ''\n",
    "    for i in text:\n",
    "        if i in alpha_string:\n",
    "            alpha_index = alpha_string.index(i)\n",
    "            new_index = alpha_index - key\n",
    "            if new_index > 25:\n",
    "                new_index = new_index - 26\n",
    "                print(i , new_index)\n",
    "            decrypted_text = decrypted_text + alpha_string[new_index]\n",
    "        else:\n",
    "            decrypted_text = decrypted_text + i\n",
    "    print(decrypted_text)\n",
    "\n",
    "    \n",
    "encrypt(\"hello world!\", 3)\n",
    "decrypt(\"khoor zruog!\", 3)"
   ]
  }
 ],
 "metadata": {
  "kernelspec": {
   "display_name": "Python 3",
   "language": "python",
   "name": "python3"
  },
  "language_info": {
   "codemirror_mode": {
    "name": "ipython",
    "version": 3
   },
   "file_extension": ".py",
   "mimetype": "text/x-python",
   "name": "python",
   "nbconvert_exporter": "python",
   "pygments_lexer": "ipython3",
   "version": "3.7.6"
  }
 },
 "nbformat": 4,
 "nbformat_minor": 2
}
